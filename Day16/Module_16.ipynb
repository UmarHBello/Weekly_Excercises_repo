{
 "cells": [
  {
   "cell_type": "markdown",
   "metadata": {},
   "source": [
    "# Module 16 - Classes and Objects"
   ]
  },
  {
   "cell_type": "markdown",
   "metadata": {},
   "source": [
    "### Exercises: Level 1"
   ]
  },
  {
   "cell_type": "code",
   "execution_count": 33,
   "metadata": {},
   "outputs": [
    {
     "name": "stdout",
     "output_type": "stream",
     "text": [
      "Count: 25\n",
      "Sum:  744\n",
      "Min:  24\n",
      "Max:  38\n",
      "Range:  14\n",
      "Mean:  30\n",
      "Median:  29\n",
      "Mode:  {'mode': 26, 'count': 5}\n",
      "Standard Deviation:  4.3\n",
      "Variance:  18.3\n",
      "Frequency Distribution:  [(20.0, 26), (16.0, 27), (12.0, 32), (8.0, 37), (8.0, 34), (8.0, 33), (8.0, 31), (8.0, 24), (4.0, 38), (4.0, 29), (4.0, 25)]\n"
     ]
    }
   ],
   "source": [
    "import statistics, math\n",
    "\n",
    "class Statistics():\n",
    "    def __init__(self, data):\n",
    "        self.data = data\n",
    "\n",
    "    def count(self):\n",
    "        return len(self.data)\n",
    "    def sum(self):\n",
    "        return sum(self.data)\n",
    "    def min(self):\n",
    "        return min(self.data)\n",
    "    def max(self):\n",
    "        return max(self.data)\n",
    "    def range(self):\n",
    "        return max(self.data) - min(self.data)\n",
    "    def mean(self):\n",
    "        mean = statistics.mean(self.data)\n",
    "        return math.ceil(mean)\n",
    "    def median(self):\n",
    "        return statistics.median(self.data)\n",
    "    def mode(self):\n",
    "        values = self.data\n",
    "        m = statistics.mode(self.data)\n",
    "        return {'mode': m, 'count': values.count(m)}\n",
    "    def std(self):\n",
    "        s = statistics.stdev(self.data)\n",
    "        return round(s, 1)\n",
    "    def var(self):\n",
    "        v = statistics.variance(self.data)\n",
    "        return round(v, 1)\n",
    "    def freq_dist(self):\n",
    "        values = self.data\n",
    "        dist = [(values.count(val)*100/len(values), val) for val in values]\n",
    "        distinct_dist = list(set(dist))\n",
    "        distinct_dist.sort(reverse=True)\n",
    "        return distinct_dist\n",
    "\n",
    "ages = [31, 26, 34, 37, 27, 26, 32, 32, 26, 27, 27, 24, 32, 33, 27, 25, 26, 38, 37, 31, 34, 24, 33, 29, 26]\n",
    "data = Statistics(ages)\n",
    "\n",
    "print('Count:', data.count()) # 25\n",
    "print('Sum: ', data.sum()) # 744\n",
    "print('Min: ', data.min()) # 24\n",
    "print('Max: ', data.max()) # 38\n",
    "print('Range: ', data.range()) # 14\n",
    "print('Mean: ', data.mean()) # 30\n",
    "print('Median: ', data.median()) # 29\n",
    "print('Mode: ', data.mode()) # {'mode': 26, 'count': 5}\n",
    "print('Standard Deviation: ', data.std()) # 4.2\n",
    "print('Variance: ', data.var()) # 17.5\n",
    "print('Frequency Distribution: ', data.freq_dist()) # [(20.0, 26), (16.0, 27), (12.0, 32), (8.0, 37), (8.0, 34), (8.0, 33), (8.0, 31), (8.0, 24), (4.0, 38), (4.0, 29), (4.0, 25)]"
   ]
  },
  {
   "cell_type": "markdown",
   "metadata": {},
   "source": [
    "### Exercises: Level 2"
   ]
  },
  {
   "cell_type": "code",
   "execution_count": 17,
   "metadata": {},
   "outputs": [
    {
     "name": "stdout",
     "output_type": "stream",
     "text": [
      "First name: Diamond\n",
      "Last name: First\n",
      "Income list: [{'values': 0, 'description': ''}, {'values': 1200, 'description': 'Side hustle'}]\n",
      "Expenses list: [{'values': 0, 'description': ''}, {'values': 400, 'description': 'Tuition'}]\n",
      "Account balance: 800\n",
      "\n",
      " Account details\n",
      "Account name: Diamond First\n",
      " Total income: 1200 \n",
      " Total expenses: 400 \n",
      " Account balance: 800\n"
     ]
    }
   ],
   "source": [
    "# Create a class called PersonAccount\n",
    "\n",
    "class PersonAccount():\n",
    "    def __init__(self, firstname:str, lastname:str, incomes:list, expenses:list):\n",
    "        self.firstname = firstname\n",
    "        self.lastname = lastname\n",
    "        self.incomes = incomes = [{'values' : 0, 'description' : ''}]\n",
    "        self.expenses = expenses = [{'values' : 0, 'description' : ''}]\n",
    "\n",
    "    def total_income(self):\n",
    "        all_incomes = [income['values'] for income in self.incomes]\n",
    "        return sum(all_incomes)\n",
    "    \n",
    "    def total_expense(self):\n",
    "        all_expenses = [expense['values'] for expense in self.expenses]\n",
    "        return sum(all_expenses)\n",
    "    \n",
    "    def account_info(self):\n",
    "        print('\\n Account details')\n",
    "        return (f'Account name: {self.firstname} {self.lastname}\\n '\n",
    "                f'Total income: {self.total_income()} \\n '\n",
    "                f'Total expenses: {self.total_expense()} \\n '\n",
    "                f'Account balance: {self.account_balance()}')\n",
    "    \n",
    "    def add_income(self, income_details: dict) -> dict:\n",
    "        return self.incomes.append(income_details)\n",
    "    \n",
    "    def add_expense(self, expenses_details: dict) -> dict:\n",
    "        return self.expenses.append(expenses_details)\n",
    "    \n",
    "    def account_balance(self):\n",
    "        return self.total_income() - self.total_expense()\n",
    "    \n",
    "\n",
    "acct = PersonAccount('Diamond', 'First', {}, {})\n",
    "\n",
    "\n",
    "print('First name:', acct.firstname)\n",
    "print('Last name:', acct.lastname)\n",
    "acct.add_expense({'values': 400, 'description': 'Tuition'})\n",
    "acct.add_income({'values': 1200, 'description': 'Side hustle'})\n",
    "print('Income list:', acct.incomes)\n",
    "print('Expenses list:', acct.expenses)\n",
    "print('Account balance:', acct.account_balance())\n",
    "print(acct.account_info())"
   ]
  }
 ],
 "metadata": {
  "kernelspec": {
   "display_name": "dataScience",
   "language": "python",
   "name": "python3"
  },
  "language_info": {
   "codemirror_mode": {
    "name": "ipython",
    "version": 3
   },
   "file_extension": ".py",
   "mimetype": "text/x-python",
   "name": "python",
   "nbconvert_exporter": "python",
   "pygments_lexer": "ipython3",
   "version": "3.12.2"
  }
 },
 "nbformat": 4,
 "nbformat_minor": 2
}
