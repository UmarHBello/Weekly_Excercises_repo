{
 "cells": [
  {
   "cell_type": "markdown",
   "metadata": {},
   "source": [
    "# Module 12 - Regular Expressions"
   ]
  },
  {
   "cell_type": "markdown",
   "metadata": {},
   "source": [
    "### Exercises: Level 1"
   ]
  },
  {
   "cell_type": "code",
   "execution_count": 5,
   "metadata": {},
   "outputs": [
    {
     "name": "stdout",
     "output_type": "stream",
     "text": [
      "[(6, 'love'), (5, 'you'), (4, 'an'), (3, 'can'), (3, 'I'), (2, 'what'), (2, 'teaching'), (2, 'not'), (2, 'else'), (2, 'do'), (1, 'which'), (1, 'to'), (1, 'the'), (1, 'teaching.'), (1, 'something'), (1, 'love.'), (1, 'if'), (1, 'give'), (1, 'develop'), (1, 'capabilities'), (1, 'application'), (1, 'all'), (1, 'Python'), (1, 'If')]\n"
     ]
    }
   ],
   "source": [
    "# What is the most frequent word in the following paragraph?\n",
    "\n",
    "paragraph = 'I love teaching. If you do not love teaching what else can you love. I love Python if you do not love something which can give you all the capabilities to develop an application what else can you love'\n",
    "\n",
    "num = [(paragraph.count(i), i) for i in paragraph.split(' ')]\n",
    "\n",
    "num = sorted(set(num), reverse= True)\n",
    "\n",
    "print(list(num))\n"
   ]
  },
  {
   "cell_type": "code",
   "execution_count": 25,
   "metadata": {},
   "outputs": [
    {
     "name": "stdout",
     "output_type": "stream",
     "text": [
      "[-12, -4, -3, -1, 0, 4, 8]\n",
      "20\n"
     ]
    }
   ],
   "source": [
    "# Extract these numbers from this whole text and find the distance between the two furthest particles.\n",
    "import re\n",
    "\n",
    "text = 'The position of some particles on the horizontal x-axis are -12, -4, -3 and -1 in the negative direction, 0 at origin, 4 and 8 in the positive direction'\n",
    "\n",
    "pattern = r'-?\\b\\d+\\b'\n",
    "\n",
    "match = re.findall(pattern, text)\n",
    "\n",
    "match = [int(x) for x in match]\n",
    "\n",
    "sorted_points = sorted(match)\n",
    "\n",
    "distance = max(match) - min(match)\n",
    "\n",
    "print(sorted_points)\n",
    "print(distance)"
   ]
  },
  {
   "cell_type": "markdown",
   "metadata": {},
   "source": [
    "### Exercises: Level 2"
   ]
  },
  {
   "cell_type": "code",
   "execution_count": 5,
   "metadata": {},
   "outputs": [
    {
     "name": "stdout",
     "output_type": "stream",
     "text": [
      "True\n",
      "False\n",
      "False\n",
      "True\n"
     ]
    }
   ],
   "source": [
    "# Write a pattern which identifies if a string is a valid python variable\n",
    "import re\n",
    "\n",
    "\n",
    "def is_valid_variable(inp):\n",
    "    pattern = r'^[a-zA-Z_][a-zA-Z0-9_]*$'\n",
    "    if (re.findall(pattern, inp)):\n",
    "        return True\n",
    "    else:\n",
    "        return False\n",
    "\n",
    "\n",
    "print(is_valid_variable('first_name')) # True\n",
    "print(is_valid_variable('first-name')) # False\n",
    "print(is_valid_variable('1first_name')) # False\n",
    "print(is_valid_variable('firstname')) # True"
   ]
  },
  {
   "cell_type": "markdown",
   "metadata": {},
   "source": [
    "### Exercises: Level 3"
   ]
  },
  {
   "cell_type": "code",
   "execution_count": 42,
   "metadata": {},
   "outputs": [
    {
     "name": "stdout",
     "output_type": "stream",
     "text": [
      "I am a teacher and I love teaching There is nothing as more rewarding as educating and empowering people I found teaching more interesting than any other jobs Does this motivate you to be a teacher \n",
      "[(3, 'I'), (2, 'a'), (2, 'teacher'), (2, 'and'), (2, 'teaching'), (2, 'as'), (2, 'more')]\n"
     ]
    }
   ],
   "source": [
    "\n",
    "\n",
    "sentence = '''%I $am@% a %tea@cher%, &and& I lo%#ve %tea@ching%;. There $is nothing; &as& mo@re rewarding as educa@ting &and& @emp%o@wering peo@ple. ;I found tea@ching m%o@re interesting tha@n any other %jo@bs. %Do@es thi%s mo@tivate yo@u to be a tea@cher!?'''\n",
    "\n",
    "\n",
    "def clean_text(text):\n",
    "    pattern = r'[a-zA-Z]'\n",
    "    text_split = text.split(' ')\n",
    "    new_text = ''\n",
    "\n",
    "    for word in text_split :\n",
    "        refined_word = ''.join(re.findall(pattern, word))\n",
    "        new_text += refined_word + ' '\n",
    "    return new_text\n",
    "\n",
    "print(clean_text(sentence))\n",
    "\n",
    "cleaned = clean_text(sentence)\n",
    "\n",
    "def most_frequent_word(cleaned):\n",
    "    count_dict = {}\n",
    "    for word in cleaned.split(' '):\n",
    "        if word in count_dict.keys():\n",
    "            count_dict[f'{word}'] += 1\n",
    "        else:\n",
    "            count_dict[f'{word}'] = 1\n",
    "    \n",
    "    sorted_count = sorted(count_dict.values(), reverse= True)\n",
    "    top_three = sorted_count[:3]\n",
    "\n",
    "    selected_three = []\n",
    "\n",
    "    for index, (key, val) in enumerate(count_dict.items()):\n",
    "        if val in top_three:\n",
    "            selected_three.append((val, key))\n",
    "    \n",
    "    return selected_three\n",
    "\n",
    "print(most_frequent_word(cleaned))\n"
   ]
  }
 ],
 "metadata": {
  "kernelspec": {
   "display_name": "condaVirtual",
   "language": "python",
   "name": "python3"
  },
  "language_info": {
   "codemirror_mode": {
    "name": "ipython",
    "version": 3
   },
   "file_extension": ".py",
   "mimetype": "text/x-python",
   "name": "python",
   "nbconvert_exporter": "python",
   "pygments_lexer": "ipython3",
   "version": "3.12.7"
  }
 },
 "nbformat": 4,
 "nbformat_minor": 2
}
