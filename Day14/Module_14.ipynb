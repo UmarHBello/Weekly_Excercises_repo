{
 "cells": [
  {
   "cell_type": "markdown",
   "metadata": {},
   "source": [
    "# Module 14 - Modules and Virtual Environment"
   ]
  },
  {
   "cell_type": "markdown",
   "metadata": {},
   "source": [
    "### Exercises: Module 14"
   ]
  },
  {
   "cell_type": "markdown",
   "metadata": {
    "vscode": {
     "languageId": "plaintext"
    }
   },
   "source": [
    "### Exercises: Level 1"
   ]
  },
  {
   "cell_type": "code",
   "execution_count": 4,
   "metadata": {},
   "outputs": [
    {
     "data": {
      "text/plain": [
       "'6ee61d'"
      ]
     },
     "execution_count": 4,
     "metadata": {},
     "output_type": "execute_result"
    }
   ],
   "source": [
    "# Writ a function which generates a six digit/character random_user_id\n",
    "from random import randint\n",
    "\n",
    "def random_user_id():\n",
    "    return f'{randint(0,9)}ee{randint(10,99)}d'\n",
    "\n",
    "random_user_id()"
   ]
  },
  {
   "cell_type": "code",
   "execution_count": 81,
   "metadata": {},
   "outputs": [
    {
     "name": "stdout",
     "output_type": "stream",
     "text": [
      "You entered 7 user_names of 5 length\n",
      "thu3g\n",
      "6aMNF\n",
      "mRi20\n",
      "ZJwAH\n",
      "9bkmx\n",
      "J7enD\n",
      "wp32i\n",
      "None\n"
     ]
    }
   ],
   "source": [
    "# Modify the previous task. Declare a function named user_id_gen_by_user. It doesn’t take any parameters \n",
    "# but it takes two inputs using input(). One of the inputs is the number of characters and the second input \n",
    "# is the number of IDs which are supposed to be generated\n",
    "\n",
    "import string\n",
    "\n",
    "def user_id_gen_by_user():\n",
    "    \n",
    "    num = int(input('Enter the lenght of user_name'))\n",
    "    counts = int(input('Enter the number of user_name generated'))\n",
    "\n",
    "    def gen_user_name():    \n",
    "        id = ''\n",
    "        strings = string.ascii_letters + string.digits\n",
    "        for i in range(num):\n",
    "            id += strings[int(randint(0,61))]\n",
    "        return id\n",
    "    \n",
    "    print(f'You entered {counts} user_names of {num} length')\n",
    "    while counts > 0:\n",
    "        print(gen_user_name())\n",
    "        counts -= 1\n",
    "\n",
    "print(user_id_gen_by_user())\n"
   ]
  },
  {
   "cell_type": "code",
   "execution_count": 10,
   "metadata": {},
   "outputs": [
    {
     "name": "stdout",
     "output_type": "stream",
     "text": [
      "rgb(27, 131, 212)\n"
     ]
    }
   ],
   "source": [
    "# Write a function named rgb_color_gen. It will generate rgb colors (3 values ranging from 0 to 255 each)\n",
    "\n",
    "def rgb_color_gen():\n",
    "    randint(0,255)\n",
    "    return f'rgb({randint(0,255)}, {randint(0,255)}, {randint(0,255)})'\n",
    "\n",
    "print(rgb_color_gen())"
   ]
  },
  {
   "cell_type": "markdown",
   "metadata": {},
   "source": [
    "### Exercises: Level 2"
   ]
  },
  {
   "cell_type": "code",
   "execution_count": 12,
   "metadata": {},
   "outputs": [
    {
     "name": "stdout",
     "output_type": "stream",
     "text": [
      "['#dD24B7', '#3CEB17', '#0D01d4', '#369cD7']\n"
     ]
    }
   ],
   "source": [
    "# Write a function list_of_hexa_colors which returns any number of hexadecimal colors\n",
    "\n",
    "def list_of_hexa_colors(counts):\n",
    "    strings = string.hexdigits\n",
    "    color_list = []\n",
    "    \n",
    "    \n",
    "    def gen_hexa_colors():\n",
    "        colors = '#'\n",
    "        lenght = 6\n",
    "        while lenght > 0:\n",
    "            colors += strings[randint(0, len(strings) -1)]\n",
    "            lenght -= 1\n",
    "        return colors\n",
    "    \n",
    "    while counts > 0:\n",
    "        color_list.append(gen_hexa_colors())\n",
    "        counts -= 1\n",
    "    \n",
    "    return color_list\n",
    "\n",
    "print(list_of_hexa_colors(4))"
   ]
  },
  {
   "cell_type": "code",
   "execution_count": 13,
   "metadata": {},
   "outputs": [
    {
     "name": "stdout",
     "output_type": "stream",
     "text": [
      "['rgb(70, 30, 251)', 'rgb(247, 162, 116)', 'rgb(64, 196, 118)', 'rgb(60, 213, 176)', 'rgb(157, 87, 149)']\n"
     ]
    }
   ],
   "source": [
    "# Write a function list_of_rgb_colors which returns any number of RGB colors in an array\n",
    "\n",
    "def list_of_rgb_colors(num):\n",
    "    rgb_list = []\n",
    "\n",
    "    while num > 0:\n",
    "        rgb_list.append(rgb_color_gen())\n",
    "        num -=1\n",
    "    return rgb_list\n",
    "\n",
    "print(list_of_rgb_colors(5))\n"
   ]
  },
  {
   "cell_type": "code",
   "execution_count": 76,
   "metadata": {},
   "outputs": [
    {
     "name": "stdout",
     "output_type": "stream",
     "text": [
      "['#ddF9Ff', '#eDBe56', '#cD6f1d']\n",
      "['#E6b48c']\n",
      "['rgb(18, 144, 76)', 'rgb(249, 225, 94)', 'rgb(60, 207, 35)']\n",
      "['rgb(65, 105, 252)']\n"
     ]
    }
   ],
   "source": [
    "# Write a function generate_colors which can generate any number of hexa or rgb colors\n",
    "\n",
    "def generate_colors(color_type, numb):\n",
    "\n",
    "    if color_type == 'hexa':\n",
    "        print(list_of_hexa_colors(numb))\n",
    "    elif color_type == 'rgb':\n",
    "        print(list_of_rgb_colors(numb))\n",
    "    \n",
    "generate_colors('hexa', 3) # ['#a3e12f','#03ed55','#eb3d2b'] \n",
    "generate_colors('hexa', 1) # ['#b334ef']\n",
    "generate_colors('rgb', 3)  # ['rgb(5, 55, 175','rgb(50, 105, 100','rgb(15, 26, 80'] \n",
    "generate_colors('rgb', 1) "
   ]
  },
  {
   "cell_type": "markdown",
   "metadata": {},
   "source": [
    "### Exercises: Level 3"
   ]
  },
  {
   "cell_type": "code",
   "execution_count": 75,
   "metadata": {},
   "outputs": [
    {
     "name": "stdout",
     "output_type": "stream",
     "text": [
      "[9, 10, 5, 7]\n"
     ]
    }
   ],
   "source": [
    "# Call your function shuffle_list, it takes a list as a parameter and it returns a shuffled list\n",
    "\n",
    "def shuffle_list(listing):\n",
    "    lenght = len(listing)\n",
    "    shuffled = set()\n",
    "\n",
    "    while len(set(shuffled)) != lenght:\n",
    "        iterator = randint(0, lenght - 1)\n",
    "        shuffled.add(listing[iterator])\n",
    "\n",
    "    return list(shuffled)\n",
    "\n",
    "print(shuffle_list([10,9,5,7]))\n",
    "\n"
   ]
  },
  {
   "cell_type": "code",
   "execution_count": 79,
   "metadata": {},
   "outputs": [
    {
     "data": {
      "text/plain": [
       "[0, 1, 2, 3, 6, 7, 9]"
      ]
     },
     "execution_count": 79,
     "metadata": {},
     "output_type": "execute_result"
    }
   ],
   "source": [
    "# Write a function which returns an array of seven random numbers in a range of 0-9. All the numbers must be unique.\n",
    "\n",
    "def array_of_seven_numbers():\n",
    "    nums = set()\n",
    "    while len(nums) != 7:\n",
    "        nums.add(randint(0,9))\n",
    "    \n",
    "    return list(nums)\n",
    "\n",
    "array_of_seven_numbers()"
   ]
  },
  {
   "cell_type": "markdown",
   "metadata": {},
   "source": [
    "### Virtual Environment Exercises"
   ]
  },
  {
   "cell_type": "code",
   "execution_count": null,
   "metadata": {},
   "outputs": [],
   "source": []
  }
 ],
 "metadata": {
  "kernelspec": {
   "display_name": "base",
   "language": "python",
   "name": "python3"
  },
  "language_info": {
   "codemirror_mode": {
    "name": "ipython",
    "version": 3
   },
   "file_extension": ".py",
   "mimetype": "text/x-python",
   "name": "python",
   "nbconvert_exporter": "python",
   "pygments_lexer": "ipython3",
   "version": "3.12.7"
  }
 },
 "nbformat": 4,
 "nbformat_minor": 2
}
