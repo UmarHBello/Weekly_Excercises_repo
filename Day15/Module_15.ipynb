{
 "cells": [
  {
   "cell_type": "markdown",
   "metadata": {},
   "source": [
    "# Module 15 - PIP"
   ]
  },
  {
   "cell_type": "code",
   "execution_count": 74,
   "metadata": {},
   "outputs": [
    {
     "name": "stdout",
     "output_type": "stream",
     "text": [
      "Response status code:  404\n"
     ]
    }
   ],
   "source": [
    "import requests\n",
    "url = 'http://www.gutenberg.org/files/1112/1112.txt'\n",
    "response = requests.get(url)\n",
    "print(f'Response status code:  {response.status_code}') \n",
    "countries = response.text"
   ]
  },
  {
   "cell_type": "code",
   "execution_count": 78,
   "metadata": {},
   "outputs": [
    {
     "name": "stdout",
     "output_type": "stream",
     "text": [
      "Response status code:  200\n",
      "Min weight:   3.0\n",
      "Max weight:   7.5\n",
      "Median weight:   5.5\n",
      "Mean weight:  4.71\n",
      "Standard deviation weight :   0.68\n"
     ]
    }
   ],
   "source": [
    "import  statistics, math\n",
    "\n",
    "url = 'https://api.thecatapi.com/v1/breeds'\n",
    "response = requests.get(url)\n",
    "print(f'Response status code:  {response.status_code}') \n",
    "breeds = response.json()\n",
    "\n",
    "\n",
    "# Extract the weight in metrics from the json response\n",
    "weights_metric = [breed['weight']['metric'] for breed in breeds]\n",
    "\n",
    "# Calculates the frequency distribution of weights in metrics from the json response\n",
    "weights_metric_count = list(set([(weight, weights_metric.count(weight)) for weight in weights_metric]))\n",
    "\n",
    "\n",
    "\n",
    "def get_midpoint(interval):\n",
    "    \"\"\"\n",
    "        Get the mid-points for a closed class interval of a grouped frequency distribution\n",
    "\n",
    "    \"\"\"\n",
    "    lower, upper = map(int, interval.split('-'))\n",
    "    return (lower + upper) / 2\n",
    "\n",
    "def compute_statistics(para, weights_metric_count):\n",
    "\n",
    "    \"\"\"\n",
    "        Compute the min, max, median, standard deviation, mean of an array\n",
    "\n",
    "    \"\"\"\n",
    "\n",
    "    # Calculate the mid-points of the class intervals\n",
    "    weights_mid_point =  []\n",
    "    for weight in  weights_metric_count:\n",
    "        mid_point = get_midpoint(weight[0])\n",
    "        weights_mid_point.append(mid_point)\n",
    "\n",
    "    # Calculate the minimum\n",
    "    min_weight = min(weights_mid_point)\n",
    "    print(f'Min {para}:  ', min_weight)\n",
    "\n",
    "    # Calculate the maximum\n",
    "    max_weight = max(weights_mid_point)\n",
    "    print(f'Max {para}:  ', max_weight)\n",
    "\n",
    "    # Calculate the median\n",
    "    median_weight = statistics.median(weights_mid_point)\n",
    "    print(f'Median {para}:  ', median_weight)\n",
    "\n",
    "    # Calculate the product of mid-point and frequency\n",
    "    weight_product = []\n",
    "    weight_frequency = []\n",
    "    for y , x in zip(weights_metric_count, weights_mid_point):\n",
    "        weight_product.append(x * y[1])\n",
    "        weight_frequency.append(y[1])\n",
    "\n",
    "\n",
    "    # Calculate means\n",
    "    weight_mean = round(sum(weight_product)/sum(weight_frequency), 2)\n",
    "\n",
    "    print(f'Mean {para}: ', weight_mean)\n",
    "\n",
    "    # Calculate the square of mean deviation\n",
    "\n",
    "    weight_deviation_squared = [(weight - weight_mean)**2 for weight in weights_mid_point]\n",
    "\n",
    "    # Calculate the variance\n",
    "    weight_variance = sum(weight_deviation_squared)/sum(weight_frequency)\n",
    "\n",
    "    # Calculate standard deviation\n",
    "    weight_standard_deviation = round(math.sqrt(weight_variance), 2)\n",
    "    print(f'Standard deviation {para} :  ', weight_standard_deviation)\n",
    "\n",
    "\n",
    "compute_statistics('weight', weights_metric_count )\n",
    "\n",
    "\n",
    "\n"
   ]
  },
  {
   "cell_type": "code",
   "execution_count": 77,
   "metadata": {},
   "outputs": [
    {
     "name": "stdout",
     "output_type": "stream",
     "text": [
      "Min life span:   10.5\n",
      "Max life span:   19.0\n",
      "Median life span:   14.0\n",
      "Mean life span:  13.75\n",
      "Standard deviation life span :   1.42\n"
     ]
    }
   ],
   "source": [
    "# the min, max, mean, median, standard deviation of cats' lifespan in years.\n",
    "\n",
    "life_span = [breed['life_span'] for breed in breeds]\n",
    "life_span_count = set([(span, life_span.count(span)) for span in life_span])\n",
    "\n",
    "compute_statistics('life span', life_span_count )"
   ]
  },
  {
   "cell_type": "code",
   "execution_count": 69,
   "metadata": {},
   "outputs": [
    {
     "name": "stdout",
     "output_type": "stream",
     "text": [
      "[('United States', 28), ('United Kingdom', 8), ('Russia', 4), ('Thailand', 4), ('Canada', 3), ('Egypt', 3), ('Turkey', 2), ('France', 2), ('Burma', 2), ('Australia', 1), ('Greece', 1), ('Singapore', 1), ('China', 1), ('Japan', 1), ('United Arab Emirates', 1), ('Cyprus', 1), ('Norway', 1), ('Somalia', 1), ('Iran (Persia)', 1), ('Isle of Man', 1)]\n",
      "Country \t | \t Number of breeds\n",
      "---------------------------------------------\n",
      "United States \t | \t 28\n",
      "United Kingdom \t | \t 8\n",
      "Russia \t | \t 4\n",
      "Thailand \t | \t 4\n",
      "Canada \t | \t 3\n",
      "Egypt \t | \t 3\n",
      "Turkey \t | \t 2\n",
      "France \t | \t 2\n",
      "Burma \t | \t 2\n",
      "Australia \t | \t 1\n",
      "Greece \t | \t 1\n",
      "Singapore \t | \t 1\n",
      "China \t | \t 1\n",
      "Japan \t | \t 1\n",
      "United Arab Emirates \t | \t 1\n",
      "Cyprus \t | \t 1\n",
      "Norway \t | \t 1\n",
      "Somalia \t | \t 1\n",
      "Iran (Persia) \t | \t 1\n",
      "Isle of Man \t | \t 1\n"
     ]
    }
   ],
   "source": [
    "# Create a frequency table of country and breed of cats\n",
    "\n",
    "countries = [breed['origin'] for breed in breeds]\n",
    "country_frequency = list(set([(country, countries.count(country)) for country in countries]))\n",
    "sorted_country_frequency = sorted(country_frequency, key = lambda x: x[1], reverse= True)\n",
    "print(sorted_country_frequency)\n",
    "\n",
    "print('Country', '\\t', '|', '\\t', 'Number of breeds')\n",
    "print('-'*45)\n",
    "for x in sorted_country_frequency:\n",
    "    print(x[0], '\\t', '|' ,'\\t', x[1])"
   ]
  },
  {
   "cell_type": "code",
   "execution_count": 72,
   "metadata": {},
   "outputs": [
    {
     "name": "stdout",
     "output_type": "stream",
     "text": [
      "Response status code:  404\n"
     ]
    }
   ],
   "source": [
    "\n",
    "address = \"https://restcountries.eu/rest/v2/all\"\n",
    "response = requests.get(address)\n",
    "print(f'Response status code:  {response.status_code}')\n",
    "\n"
   ]
  }
 ],
 "metadata": {
  "kernelspec": {
   "display_name": "dataScience",
   "language": "python",
   "name": "python3"
  },
  "language_info": {
   "codemirror_mode": {
    "name": "ipython",
    "version": 3
   },
   "file_extension": ".py",
   "mimetype": "text/x-python",
   "name": "python",
   "nbconvert_exporter": "python",
   "pygments_lexer": "ipython3",
   "version": "3.12.2"
  }
 },
 "nbformat": 4,
 "nbformat_minor": 2
}
