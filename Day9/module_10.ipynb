{
 "cells": [
  {
   "cell_type": "markdown",
   "metadata": {},
   "source": [
    "Sort countries by name, by capital, by population"
   ]
  },
  {
   "cell_type": "code",
   "execution_count": null,
   "metadata": {},
   "outputs": [],
   "source": [
    "countries = [\n",
    "    {'Finland','Helsinki','Sweden','Stockholm','Norway','capital','Oslo','Denmark', 'capital',\n",
    "     'Copenhagen','Iceland','Reykjavík','Estonia','Tallinn','Russia','Moscow','Mongolia','Ulaanbaatar',}\n",
    "            ]\n",
    "\n",
    "sorted_by_name = sorted(countries, key=lambda x: x['country'])\n",
    "print(\"Sorted by Country Name:\")\n",
    "for country in sorted_by_name:\n",
    "    print(country)\n",
    "\n",
    "sorted_by_capital = sorted(countries, key=lambda x: x['capital'])\n",
    "print(\"\\nSorted by Capital:\")\n",
    "for country in sorted_by_capital:\n",
    "    print(country)"
   ]
  },
  {
   "cell_type": "markdown",
   "metadata": {},
   "source": []
  }
 ],
 "metadata": {
  "language_info": {
   "name": "python"
  }
 },
 "nbformat": 4,
 "nbformat_minor": 2
}
