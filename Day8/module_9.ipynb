{
 "cells": [
  {
   "cell_type": "markdown",
   "metadata": {},
   "source": [
    "Declare a function add_two_numbers. It takes two parameters and it returns a sum."
   ]
  },
  {
   "cell_type": "code",
   "execution_count": null,
   "metadata": {},
   "outputs": [],
   "source": [
    "def add_two_numbers(a, b):\n",
    "    return a + b\n",
    "\n",
    "result = add_two_numbers(5, 3)\n",
    "print(\"The sum is:\", result)\n"
   ]
  },
  {
   "cell_type": "markdown",
   "metadata": {},
   "source": [
    "Area of a circle is calculated as follows: area = π x r x r. Write a function that calculates area_of_circle."
   ]
  },
  {
   "cell_type": "code",
   "execution_count": null,
   "metadata": {},
   "outputs": [],
   "source": [
    "import math  \n",
    "\n",
    "def area_of_circle(r):\n",
    "    return math.pi * r * r  \n",
    "\n",
    "radius = 5\n",
    "area = area_of_circle(radius)\n",
    "print(\"The area of the circle is:\", area)\n"
   ]
  },
  {
   "cell_type": "markdown",
   "metadata": {},
   "source": [
    "Temperature in °C can be converted to °F using this formula: °F = (°C x 9/5) + 32. Write a function which converts °C to °F, convert_celsius_to-fahrenheit."
   ]
  },
  {
   "cell_type": "code",
   "execution_count": null,
   "metadata": {},
   "outputs": [],
   "source": [
    "def convert_celsius_to_fahrenheit(celsius):\n",
    "    fahrenheit = (celsius * 9/5) + 32\n",
    "    return fahrenheit"
   ]
  },
  {
   "cell_type": "markdown",
   "metadata": {},
   "source": [
    "Write a function called check-season, it takes a month parameter and returns the season: Autumn, Winter, Spring or Summer"
   ]
  },
  {
   "cell_type": "code",
   "execution_count": null,
   "metadata": {},
   "outputs": [],
   "source": [
    "def check_season(month):\n",
    "    autumn_months = ['September', 'October', 'November']\n",
    "    winter_months = ['December', 'January', 'February']\n",
    "    spring_months = ['March', 'April', 'May']\n",
    "    summer_months = ['June', 'July', 'August']\n",
    "    \n",
    "    if month in autumn_months:\n",
    "        return \"Autumn\"\n",
    "    elif month in winter_months:\n",
    "        return \"Winter\"\n",
    "    elif month in spring_months:\n",
    "        return \"Spring\"\n",
    "    elif month in summer_months:\n",
    "        return \"Summer\"\n",
    "    else:\n",
    "        return \"Invalid month\""
   ]
  },
  {
   "cell_type": "markdown",
   "metadata": {},
   "source": [
    "Write a function called calculate_slope which return the slope of a linear equation"
   ]
  },
  {
   "cell_type": "code",
   "execution_count": null,
   "metadata": {},
   "outputs": [],
   "source": [
    "def calculate_slope(x1, y1, x2, y2):\n",
    "    if x2 - x1 == 0:  \n",
    "        return \"Slope is undefined (vertical line)\"\n",
    "    slope = (y2 - y1) / (x2 - x1)\n",
    "    return slope\n",
    "\n",
    "x1, y1 = 1, 2\n",
    "x2, y2 = 3, 6\n",
    "slope = calculate_slope(x1, y1, x2, y2)\n",
    "print(f\"The slope of the line is: {slope}\")\n"
   ]
  },
  {
   "cell_type": "markdown",
   "metadata": {},
   "source": [
    "Declare a function named print_list. It takes a list as a parameter and it prints out each element of the list."
   ]
  },
  {
   "cell_type": "code",
   "execution_count": null,
   "metadata": {},
   "outputs": [],
   "source": [
    "def print_list(my_list):\n",
    "    for item in my_list:\n",
    "        print(item)\n",
    "        \n",
    "my_list = ['apple', 'banana', 'cherry', 'date']\n",
    "print_list(my_list)\n"
   ]
  },
  {
   "cell_type": "markdown",
   "metadata": {},
   "source": [
    "Declare a function named reverse_list. It takes an array as a parameter and it returns the reverse of the array (use loops)"
   ]
  },
  {
   "cell_type": "code",
   "execution_count": null,
   "metadata": {},
   "outputs": [],
   "source": [
    "def reverse_list(my_list):\n",
    "    reversed_list = []  \n",
    "    for item in my_list:\n",
    "        reversed_list.insert(0, item)  \n",
    "    return reversed_list\n",
    "\n",
    "\n",
    "print(reverse_list([1, 2, 3, 4, 5])) \n",
    "print(reverse_list([\"A\", \"B\", \"C\"]))  \n"
   ]
  },
  {
   "cell_type": "markdown",
   "metadata": {},
   "source": [
    "Declare a function named capitalize_list_items. It takes a list as a parameter and it returns a capitalized list of items"
   ]
  },
  {
   "cell_type": "code",
   "execution_count": null,
   "metadata": {},
   "outputs": [],
   "source": [
    "def capitalize_list_items(my_list):\n",
    "    return [item.capitalize() for item in my_list]  \n",
    "\n",
    "print(capitalize_list_items(['apple', 'banana', 'cherry'])) "
   ]
  },
  {
   "cell_type": "markdown",
   "metadata": {},
   "source": [
    "Declare a function named add_item. It takes a list and an item parameters. It returns a list with the item added at the end."
   ]
  },
  {
   "cell_type": "code",
   "execution_count": null,
   "metadata": {},
   "outputs": [],
   "source": [
    "def add_item(my_list, item):\n",
    "    my_list.append(item) \n",
    "    return my_list\n",
    "\n",
    "food_staff = ['Potato', 'Tomato', 'Mango', 'Milk']\n",
    "print(add_item(food_staff, 'Meat'))  \n",
    "\n",
    "numbers = [2, 3, 7, 9]\n",
    "print(add_item(numbers, 5))\n"
   ]
  },
  {
   "cell_type": "markdown",
   "metadata": {},
   "source": [
    "Declare a function named remove_item. It takes a list and an item parameters. It returns a list with the item removed from it."
   ]
  },
  {
   "cell_type": "code",
   "execution_count": null,
   "metadata": {},
   "outputs": [],
   "source": [
    "def remove_item(my_list, item):\n",
    "    if item in my_list:  \n",
    "        my_list.remove(item)  \n",
    "    return my_list\n",
    "\n",
    "food_staff = ['Potato', 'Tomato', 'Mango', 'Milk']\n",
    "print(remove_item(food_staff, 'Mango'))  \n",
    "\n",
    "numbers = [2, 3, 7, 9]\n",
    "print(remove_item(numbers, 3)) \n"
   ]
  },
  {
   "cell_type": "markdown",
   "metadata": {},
   "source": [
    "Declare a function named sum_of_numbers. It takes a number parameter and it adds all the numbers in that range."
   ]
  },
  {
   "cell_type": "code",
   "execution_count": null,
   "metadata": {},
   "outputs": [],
   "source": [
    "def sum_of_numbers(n):\n",
    "    return sum(range(1, n+1))  \n",
    "\n",
    "print(sum_of_numbers(5))   \n",
    "print(sum_of_numbers(10))  \n",
    "print(sum_of_numbers(100)) \n"
   ]
  },
  {
   "cell_type": "markdown",
   "metadata": {},
   "source": [
    "Declare a function named sum_of_odds. It takes a number parameter and it adds all the odd numbers in that range."
   ]
  },
  {
   "cell_type": "code",
   "execution_count": null,
   "metadata": {},
   "outputs": [],
   "source": [
    "def sum_of_odds(n):\n",
    "    return sum(number for number in range(1, n+1) if number % 2 != 0)\n",
    "\n",
    "print(sum_of_odds(5))   \n",
    "print(sum_of_odds(10))  \n",
    "print(sum_of_odds(100)) \n"
   ]
  },
  {
   "cell_type": "markdown",
   "metadata": {},
   "source": [
    "Declare a function named sum_of_even. It takes a number parameter and it adds all the even numbers in that - range"
   ]
  },
  {
   "cell_type": "code",
   "execution_count": null,
   "metadata": {},
   "outputs": [],
   "source": [
    "def sum_of_even(n):\n",
    "    return sum(number for number in range(1, n+1) if number % 2 == 0)\n",
    "\n",
    "\n",
    "print(sum_of_even(5))   \n",
    "print(sum_of_even(10))  \n",
    "print(sum_of_even(100)) \n"
   ]
  },
  {
   "cell_type": "markdown",
   "metadata": {},
   "source": [
    "Declare a function named evens_and_odds . It takes a positive integer as parameter and it counts number of evens and odds in the number."
   ]
  },
  {
   "cell_type": "code",
   "execution_count": null,
   "metadata": {},
   "outputs": [],
   "source": [
    "def evens_and_odds(number):\n",
    "    even_count = 0\n",
    "    odd_count = 0\n",
    "    \n",
    " \n",
    "    for digit in str(number):\n",
    "        if int(digit) % 2 == 0:\n",
    "            even_count += 1\n",
    "        else:\n",
    "            odd_count += 1\n",
    "    \n",
    "    return even_count, odd_count"
   ]
  },
  {
   "cell_type": "markdown",
   "metadata": {},
   "source": [
    "Write a function called is_prime, which checks if a number is prime."
   ]
  },
  {
   "cell_type": "code",
   "execution_count": null,
   "metadata": {},
   "outputs": [],
   "source": [
    "def is_prime(number):\n",
    "    if number <= 1:\n",
    "        return False  \n",
    "    \n",
    "   \n",
    "    for divisor in range(2, int(number**0.5) + 1):\n",
    "        if number % divisor == 0:\n",
    "            return False  \n",
    "    return True"
   ]
  },
  {
   "cell_type": "markdown",
   "metadata": {},
   "source": [
    "Write a functions which checks if all items are unique in the list"
   ]
  },
  {
   "cell_type": "code",
   "execution_count": null,
   "metadata": {},
   "outputs": [],
   "source": [
    "def are_items_unique(my_list):\n",
    "    return len(my_list) == len(set(my_list))"
   ]
  },
  {
   "cell_type": "markdown",
   "metadata": {},
   "source": [
    "Write a function which checks if all the items of the list are of the same data type"
   ]
  },
  {
   "cell_type": "code",
   "execution_count": null,
   "metadata": {},
   "outputs": [],
   "source": [
    "def are_items_same_type(my_list):\n",
    "    return all(isinstance(item, type(my_list[0])) for item in my_list)\n"
   ]
  },
  {
   "cell_type": "markdown",
   "metadata": {},
   "source": [
    "Write a function which check if provided variable is a valid python variable"
   ]
  },
  {
   "cell_type": "code",
   "execution_count": null,
   "metadata": {},
   "outputs": [],
   "source": [
    "def is_valid_variable(variable_name):\n",
    "    import keyword\n",
    "    return variable_name.isidentifier() and not keyword.iskeyword(variable_name)\n"
   ]
  },
  {
   "cell_type": "markdown",
   "metadata": {},
   "source": [
    "filter only negative and zero in the list using list comprehension"
   ]
  },
  {
   "cell_type": "code",
   "execution_count": null,
   "metadata": {},
   "outputs": [],
   "source": [
    "numbers = [-4, -3, -2, -1, 0, 2, 4, 6]\n",
    "\n",
    "filtered_numbers = [num for num in numbers if num <= 0]\n",
    "\n",
    "print(filtered_numbers)\n"
   ]
  },
  {
   "cell_type": "markdown",
   "metadata": {},
   "source": [
    "Flatten the following list of lists of lists to a one dimensional list :"
   ]
  },
  {
   "cell_type": "code",
   "execution_count": null,
   "metadata": {},
   "outputs": [],
   "source": [
    "list_of_lists = [[[1, 2, 3]], [[4, 5, 6]], [[7, 8, 9]]]\n",
    "\n",
    "flattened_list = [item for sublist in list_of_lists for inner_list in sublist for item in inner_list]\n",
    "print(flattened_list)\n"
   ]
  },
  {
   "cell_type": "markdown",
   "metadata": {},
   "source": [
    "Using list comprehension create the following list of tuples:"
   ]
  },
  {
   "cell_type": "code",
   "execution_count": null,
   "metadata": {},
   "outputs": [],
   "source": [
    "result = [(i, 1, i**1, i**2, i**3, i**4, i**5) for i in range(11)]\n",
    "\n",
    "for item in result:\n",
    "    print(item)"
   ]
  },
  {
   "cell_type": "markdown",
   "metadata": {},
   "source": [
    "Flatten the following list to a new list:"
   ]
  },
  {
   "cell_type": "code",
   "execution_count": null,
   "metadata": {},
   "outputs": [],
   "source": [
    "countries = [[('Finland', 'Helsinki')], [('Sweden', 'Stockholm')], [('Norway', 'Oslo')]]\n",
    "\n",
    "flattened_countries = [\n",
    "    [country[0].upper(), country[0][:3].upper(), country[1].upper()] \n",
    "    for sublist in countries for country in sublist\n",
    "]\n",
    "print(flattened_countries)\n"
   ]
  },
  {
   "cell_type": "markdown",
   "metadata": {},
   "source": [
    "Change the following list to a list of dictionaries:"
   ]
  },
  {
   "cell_type": "code",
   "execution_count": null,
   "metadata": {},
   "outputs": [],
   "source": [
    "countries = [[('Finland', 'Helsinki')], [('Sweden', 'Stockholm')], [('Norway', 'Oslo')]]\n",
    "\n",
    "countries_dict = [\n",
    "    {'country': country[0].upper(), 'city': country[1].upper()} \n",
    "    for sublist in countries for country in sublist\n",
    "]\n",
    "\n",
    "print(countries_dict)\n"
   ]
  },
  {
   "cell_type": "markdown",
   "metadata": {},
   "source": [
    "Change the following list of lists to a list of concatenated strings:"
   ]
  },
  {
   "cell_type": "code",
   "execution_count": null,
   "metadata": {},
   "outputs": [],
   "source": [
    "names = [[('Asabeneh', 'Yetayeh')], [('David', 'Smith')], [('Donald', 'Trump')], [('Bill', 'Gates')]]\n",
    "\n",
    "concatenated_names = [f\"{first_name} {last_name}\" for sublist in names for first_name, last_name in sublist]\n",
    "\n",
    "print(concatenated_names)\n"
   ]
  },
  {
   "cell_type": "markdown",
   "metadata": {},
   "source": [
    "Write a lambda function which can solve a slope or y-intercept of linear functions."
   ]
  },
  {
   "cell_type": "code",
   "execution_count": null,
   "metadata": {},
   "outputs": [],
   "source": [
    "\n",
    "calculate_slope = lambda x1, y1, x2, y2: (y2 - y1) / (x2 - x1)\n",
    "\n",
    "calculate_y_intercept = lambda x, y, m: y - m * x\n",
    "\n",
    "x1, y1 = 1, 2\n",
    "x2, y2 = 3, 6\n",
    "\n",
    "slope = calculate_slope(x1, y1, x2, y2)\n",
    "print(f\"Slope: {slope}\")\n",
    "\n",
    "y_intercept = calculate_y_intercept(x1, y1, slope)\n",
    "print(f\"Y-Intercept: {y_intercept}\")\n"
   ]
  }
 ],
 "metadata": {
  "language_info": {
   "name": "python"
  }
 },
 "nbformat": 4,
 "nbformat_minor": 2
}
